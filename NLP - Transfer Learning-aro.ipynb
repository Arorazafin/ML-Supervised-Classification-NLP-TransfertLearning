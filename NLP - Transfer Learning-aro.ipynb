{
 "cells": [
  {
   "cell_type": "markdown",
   "metadata": {
    "toc": true
   },
   "source": [
    "<h1>Table of Contents<span class=\"tocSkip\"></span></h1>\n",
    "<div class=\"toc\"><ul class=\"toc-item\"><li><span><a href=\"#Packages-import\" data-toc-modified-id=\"Packages-import-1\"><span class=\"toc-item-num\">1&nbsp;&nbsp;</span>Packages import</a></span></li><li><span><a href=\"#Read-train/test-datasets\" data-toc-modified-id=\"Read-train/test-datasets-2\"><span class=\"toc-item-num\">2&nbsp;&nbsp;</span>Read train/test datasets</a></span></li><li><span><a href=\"#Define-your-Keras-model-using-Transfer-Learning\" data-toc-modified-id=\"Define-your-Keras-model-using-Transfer-Learning-3\"><span class=\"toc-item-num\">3&nbsp;&nbsp;</span>Define your Keras model using Transfer Learning</a></span></li><li><span><a href=\"#Model-compiler\" data-toc-modified-id=\"Model-compiler-4\"><span class=\"toc-item-num\">4&nbsp;&nbsp;</span>Model compiler</a></span></li><li><span><a href=\"#Model-training\" data-toc-modified-id=\"Model-training-5\"><span class=\"toc-item-num\">5&nbsp;&nbsp;</span>Model training</a></span></li><li><span><a href=\"#Train/validation-error-history\" data-toc-modified-id=\"Train/validation-error-history-6\"><span class=\"toc-item-num\">6&nbsp;&nbsp;</span>Train/validation error history</a></span></li><li><span><a href=\"#Performance-on-test-dataset\" data-toc-modified-id=\"Performance-on-test-dataset-7\"><span class=\"toc-item-num\">7&nbsp;&nbsp;</span>Performance on test dataset</a></span></li><li><span><a href=\"#1st-interpretation\" data-toc-modified-id=\"1st-interpretation-8\"><span class=\"toc-item-num\">8&nbsp;&nbsp;</span>1st interpretation</a></span></li><li><span><a href=\"#2nd-interpretation\" data-toc-modified-id=\"2nd-interpretation-9\"><span class=\"toc-item-num\">9&nbsp;&nbsp;</span>2nd interpretation</a></span></li></ul></div>"
   ]
  },
  {
   "cell_type": "markdown",
   "metadata": {},
   "source": [
    "### Packages import"
   ]
  },
  {
   "cell_type": "code",
   "execution_count": 1,
   "metadata": {
    "ExecuteTime": {
     "end_time": "2020-11-05T13:31:35.874322Z",
     "start_time": "2020-11-05T13:31:15.600956Z"
    }
   },
   "outputs": [
    {
     "name": "stdout",
     "output_type": "stream",
     "text": [
      "TensorFlow version: 2.3.1\n",
      "Keras version: 2.4.0\n"
     ]
    }
   ],
   "source": [
    "# Import base packages\n",
    "import numpy as np\n",
    "import matplotlib\n",
    "import matplotlib.pyplot as plt\n",
    "import seaborn as sns\n",
    "import pandas as pd\n",
    "\n",
    "# Import DL packages\n",
    "import tensorflow as tf\n",
    "print(f'TensorFlow version: {tf.__version__}')\n",
    "print(f'Keras version: {tf.keras.__version__}')\n",
    "import tensorflow_hub as hub\n",
    "from tensorflow.keras import regularizers\n",
    "from tensorflow.keras.models import Sequential\n",
    "from tensorflow.keras.layers import Dense, Dropout\n",
    "from sklearn.model_selection import train_test_split\n",
    "from sklearn.metrics import accuracy_score"
   ]
  },
  {
   "cell_type": "markdown",
   "metadata": {},
   "source": [
    "### Read train/test datasets\n",
    "Create a function to read train and test datasets with follow actions:\n",
    "- Have a look at readme.txt from the unzipped folder to get more information about the datasets\n",
    "- Columns should be renamed to 'rate' and 'text'\n",
    "- Take a random sample of 5000 records for training and test datasets\n",
    "- Positive labels should be mapped to 0 (instead of 2 in the initial dataset)"
   ]
  },
  {
   "cell_type": "code",
   "execution_count": 13,
   "metadata": {
    "ExecuteTime": {
     "end_time": "2020-11-05T13:58:52.738370Z",
     "start_time": "2020-11-05T13:58:52.406633Z"
    }
   },
   "outputs": [
    {
     "data": {
      "text/html": [
       "<div>\n",
       "<style scoped>\n",
       "    .dataframe tbody tr th:only-of-type {\n",
       "        vertical-align: middle;\n",
       "    }\n",
       "\n",
       "    .dataframe tbody tr th {\n",
       "        vertical-align: top;\n",
       "    }\n",
       "\n",
       "    .dataframe thead th {\n",
       "        text-align: right;\n",
       "    }\n",
       "</style>\n",
       "<table border=\"1\" class=\"dataframe\">\n",
       "  <thead>\n",
       "    <tr style=\"text-align: right;\">\n",
       "      <th></th>\n",
       "      <th>rate</th>\n",
       "      <th>text</th>\n",
       "    </tr>\n",
       "  </thead>\n",
       "  <tbody>\n",
       "    <tr>\n",
       "      <th>0</th>\n",
       "      <td>1</td>\n",
       "      <td>Unfortunately, the frustration of being Dr. Go...</td>\n",
       "    </tr>\n",
       "    <tr>\n",
       "      <th>1</th>\n",
       "      <td>0</td>\n",
       "      <td>Been going to Dr. Goldberg for over 10 years. ...</td>\n",
       "    </tr>\n",
       "    <tr>\n",
       "      <th>2</th>\n",
       "      <td>1</td>\n",
       "      <td>I don't know what Dr. Goldberg was like before...</td>\n",
       "    </tr>\n",
       "    <tr>\n",
       "      <th>3</th>\n",
       "      <td>1</td>\n",
       "      <td>I'm writing this review to give you a heads up...</td>\n",
       "    </tr>\n",
       "    <tr>\n",
       "      <th>4</th>\n",
       "      <td>0</td>\n",
       "      <td>All the food is great here. But the best thing...</td>\n",
       "    </tr>\n",
       "  </tbody>\n",
       "</table>\n",
       "</div>"
      ],
      "text/plain": [
       "   rate                                               text\n",
       "0     1  Unfortunately, the frustration of being Dr. Go...\n",
       "1     0  Been going to Dr. Goldberg for over 10 years. ...\n",
       "2     1  I don't know what Dr. Goldberg was like before...\n",
       "3     1  I'm writing this review to give you a heads up...\n",
       "4     0  All the food is great here. But the best thing..."
      ]
     },
     "execution_count": 13,
     "metadata": {},
     "output_type": "execute_result"
    }
   ],
   "source": [
    "def read_format_dataset(dataset_path):\n",
    "    df = pd.read_csv(dataset_path, names=['rate', 'text'], sep=',',nrows=5000)\n",
    "    df['rate'].loc[df['rate'] == 2] = 0\n",
    "    return df\n",
    "\n",
    "train_dataset_path = 'data/yelp_review_polarity_csv/train.csv'\n",
    "test_dataset_path = 'data/yelp_review_polarity_csv/test.csv'\n",
    "train_data = read_format_dataset(train_dataset_path)\n",
    "test_data = read_format_dataset(test_dataset_path)\n",
    "train_data.head()"
   ]
  },
  {
   "cell_type": "markdown",
   "metadata": {},
   "source": [
    "### Define your Keras model using Transfer Learning\n",
    "Now you should define your NN structure using Keras sequential layers. Your base model will come from TensorFlow Hub with source url https://tfhub.dev/google/universal-sentence-encoder/4.\n",
    "To import this base model in your structure, you must use hub.KerasLayer function (https://www.tensorflow.org/hub/api_docs/python/hub/KerasLayer). You should add following parameters:\n",
    "- input_shape = []\n",
    "- dtype = tf.string\n",
    "- trainable = False\n",
    "\n",
    "Please note this trainable option that allows to retrain the entire NN or not.\n",
    "\n",
    "Now that you have your base model, you should add a new layer on top to predict a probability for our 2 classes (Positive/Negative). Which layer would you use for this ? Which activation function ?\n",
    "\n",
    "Your final model should have two layers:\n",
    "- base model with 256797824 params\n",
    "- prediction layer with 513 params\n",
    "\n",
    "Please have a look at the number of training params and its relation with base model option trainable."
   ]
  },
  {
   "cell_type": "code",
   "execution_count": 34,
   "metadata": {
    "ExecuteTime": {
     "end_time": "2020-11-05T15:04:12.930202Z",
     "start_time": "2020-11-05T15:03:52.430315Z"
    }
   },
   "outputs": [
    {
     "name": "stdout",
     "output_type": "stream",
     "text": [
      "Model: \"sequential_1\"\n",
      "_________________________________________________________________\n",
      "Layer (type)                 Output Shape              Param #   \n",
      "=================================================================\n",
      "keras_layer_1 (KerasLayer)   (None, 512)               256797824 \n",
      "_________________________________________________________________\n",
      "dense (Dense)                (None, 1)                 513       \n",
      "=================================================================\n",
      "Total params: 256,798,337\n",
      "Trainable params: 513\n",
      "Non-trainable params: 256,797,824\n",
      "_________________________________________________________________\n"
     ]
    }
   ],
   "source": [
    "model_use4 =\"https://tfhub.dev/google/universal-sentence-encoder/4\" \n",
    "model = tf.keras.Sequential([\n",
    "                        hub.KerasLayer(model_use4, input_shape = [], dtype = tf.string, trainable = False),\n",
    "        Dense(1,activation ='sigmoid')   \n",
    "    ])\n",
    "\n",
    "model.summary()"
   ]
  },
  {
   "cell_type": "markdown",
   "metadata": {},
   "source": [
    "### Model compiler\n",
    "Compile your Keras model using an Adam optimizer, binary crossentropy for the loss and accuracy as the target metric"
   ]
  },
  {
   "cell_type": "code",
   "execution_count": 35,
   "metadata": {
    "ExecuteTime": {
     "end_time": "2020-11-05T15:04:19.136007Z",
     "start_time": "2020-11-05T15:04:19.057017Z"
    }
   },
   "outputs": [],
   "source": [
    "model.compile(optimizer=\"Adam\", loss=\"binary_crossentropy\", metrics=\"accuracy\")"
   ]
  },
  {
   "cell_type": "markdown",
   "metadata": {},
   "source": [
    "### Model training\n",
    "Split your training data into x_train, x_valid, y_train, y_valid using sklearn function. Test size must be set to 0.3 and the repartition of the target variable should be similar between your valid and training samples."
   ]
  },
  {
   "cell_type": "code",
   "execution_count": 36,
   "metadata": {
    "ExecuteTime": {
     "end_time": "2020-11-05T15:04:22.377802Z",
     "start_time": "2020-11-05T15:04:22.188829Z"
    }
   },
   "outputs": [],
   "source": [
    "x_train, x_valid, y_train, y_valid = train_test_split(train_data['text'],train_data['rate'], test_size=0.3, random_state=42)"
   ]
  },
  {
   "cell_type": "markdown",
   "metadata": {},
   "source": [
    "Now you can train your NN by providing your training and valid datasets. Number of epochs can be set to 5 for now. You need to save the model fit output into history variable, so we can plot the loss later."
   ]
  },
  {
   "cell_type": "code",
   "execution_count": 37,
   "metadata": {
    "ExecuteTime": {
     "end_time": "2020-11-05T15:04:23.367889Z",
     "start_time": "2020-11-05T15:04:23.338758Z"
    }
   },
   "outputs": [
    {
     "data": {
      "text/plain": [
       "(1500,)"
      ]
     },
     "execution_count": 37,
     "metadata": {},
     "output_type": "execute_result"
    }
   ],
   "source": [
    "y_valid.shape"
   ]
  },
  {
   "cell_type": "code",
   "execution_count": 38,
   "metadata": {
    "ExecuteTime": {
     "end_time": "2020-11-05T15:05:04.757889Z",
     "start_time": "2020-11-05T15:04:24.243324Z"
    }
   },
   "outputs": [
    {
     "name": "stdout",
     "output_type": "stream",
     "text": [
      "Epoch 1/5\n",
      "110/110 [==============================] - 9s 82ms/step - loss: 0.6649 - accuracy: 0.7246 - val_loss: 0.6357 - val_accuracy: 0.8060\n",
      "Epoch 2/5\n",
      "110/110 [==============================] - 7s 62ms/step - loss: 0.6127 - accuracy: 0.8300 - val_loss: 0.5899 - val_accuracy: 0.8387\n",
      "Epoch 3/5\n",
      "110/110 [==============================] - 7s 63ms/step - loss: 0.5704 - accuracy: 0.8414 - val_loss: 0.5526 - val_accuracy: 0.8420\n",
      "Epoch 4/5\n",
      "110/110 [==============================] - 7s 63ms/step - loss: 0.5356 - accuracy: 0.8480 - val_loss: 0.5212 - val_accuracy: 0.8493\n",
      "Epoch 5/5\n",
      "110/110 [==============================] - 7s 65ms/step - loss: 0.5068 - accuracy: 0.8523 - val_loss: 0.4951 - val_accuracy: 0.8533\n"
     ]
    }
   ],
   "source": [
    "history = model.fit(x=x_train, y=  y_train, validation_data =(x_valid,y_valid),epochs=5)"
   ]
  },
  {
   "cell_type": "markdown",
   "metadata": {},
   "source": [
    "### Train/validation error history\n",
    "You can plot the training/validation error and accuracy using the following function."
   ]
  },
  {
   "cell_type": "code",
   "execution_count": 39,
   "metadata": {
    "ExecuteTime": {
     "end_time": "2020-11-05T15:05:14.290294Z",
     "start_time": "2020-11-05T15:05:10.144046Z"
    }
   },
   "outputs": [
    {
     "data": {
      "image/png": "[encoded data removed]",
      "text/plain": [
       "<Figure size 720x720 with 2 Axes>"
      ]
     },
     "metadata": {
      "needs_background": "light"
     },
     "output_type": "display_data"
    }
   ],
   "source": [
    "def plot_loss_acc(history):\n",
    "    \"\"\"Plot training and (optionally) validation loss and accuracy\"\"\"\n",
    "\n",
    "    loss = history.history['loss']\n",
    "    epochs = range(1, len(loss) + 1)\n",
    "\n",
    "    plt.figure(figsize=(10, 10))\n",
    "\n",
    "    plt.subplot(2, 1, 1)\n",
    "    plt.plot(epochs, loss, '.--', label='Training loss')\n",
    "    final_loss = loss[-1]\n",
    "    title = 'Training loss: {:.4f}'.format(final_loss)\n",
    "    plt.ylabel('Loss')\n",
    "    if 'val_loss' in history.history:\n",
    "        val_loss = history.history['val_loss']\n",
    "        plt.plot(epochs, val_loss, 'o-', label='Validation loss')\n",
    "        final_val_loss = val_loss[-1]\n",
    "        title += ', Validation loss: {:.4f}'.format(final_val_loss)\n",
    "    plt.title(title)\n",
    "    plt.legend()\n",
    "\n",
    "    acc = history.history['accuracy']\n",
    "\n",
    "    plt.subplot(2, 1, 2)\n",
    "    plt.plot(epochs, acc, '.--', label='Training acc')\n",
    "    final_acc = acc[-1]\n",
    "    title = 'Training accuracy: {:.2f}%'.format(final_acc * 100)\n",
    "    plt.xlabel('Epochs')\n",
    "    plt.ylabel('Accuracy')\n",
    "    if 'val_accuracy' in history.history:\n",
    "        val_acc = history.history['val_accuracy']\n",
    "        plt.plot(epochs, val_acc, 'o-', label='Validation acc')\n",
    "        final_val_acc = val_acc[-1]\n",
    "        title += ', Validation accuracy: {:.2f}%'.format(final_val_acc * 100)\n",
    "    plt.title(title)\n",
    "    plt.legend()\n",
    "\n",
    "plot_loss_acc(history)"
   ]
  },
  {
   "cell_type": "markdown",
   "metadata": {},
   "source": [
    "### Performance on test dataset\n",
    "Compute the accuracy for our test dataset"
   ]
  },
  {
   "cell_type": "code",
   "execution_count": 45,
   "metadata": {
    "ExecuteTime": {
     "end_time": "2020-11-05T15:14:29.194706Z",
     "start_time": "2020-11-05T15:14:23.191521Z"
    }
   },
   "outputs": [
    {
     "name": "stdout",
     "output_type": "stream",
     "text": [
      "WARNING:tensorflow:From <ipython-input-45-7e11664fe0b6>:1: Sequential.predict_classes (from tensorflow.python.keras.engine.sequential) is deprecated and will be removed after 2021-01-01.\n",
      "Instructions for updating:\n",
      "Please use instead:* `np.argmax(model.predict(x), axis=-1)`,   if your model does multi-class classification   (e.g. if it uses a `softmax` last-layer activation).* `(model.predict(x) > 0.5).astype(\"int32\")`,   if your model does binary classification   (e.g. if it uses a `sigmoid` last-layer activation).\n"
     ]
    },
    {
     "name": "stderr",
     "output_type": "stream",
     "text": [
      "WARNING:tensorflow:From <ipython-input-45-7e11664fe0b6>:1: Sequential.predict_classes (from tensorflow.python.keras.engine.sequential) is deprecated and will be removed after 2021-01-01.\n",
      "Instructions for updating:\n",
      "Please use instead:* `np.argmax(model.predict(x), axis=-1)`,   if your model does multi-class classification   (e.g. if it uses a `softmax` last-layer activation).* `(model.predict(x) > 0.5).astype(\"int32\")`,   if your model does binary classification   (e.g. if it uses a `sigmoid` last-layer activation).\n"
     ]
    },
    {
     "name": "stdout",
     "output_type": "stream",
     "text": [
      "0.8486\n"
     ]
    }
   ],
   "source": [
    "y_pred = model.predict_classes(test_data['text'])\n",
    "acc=accuracy_score(test_data['rate'], y_pred)\n",
    "print(acc)"
   ]
  },
  {
   "cell_type": "markdown",
   "metadata": {},
   "source": [
    "### 1st interpretation\n",
    "Apart from the final precision, what do you think about the training/validation curves ? Is there any evidence of overfitting when we freeze the base layer ?\n",
    "\n",
    "Now, you can go back to the model definition and unfreeze our base layers. You should see the difference with the number of trainable parameters. No other parameters should be updated. Obviously training your model will take longer."
   ]
  },
  {
   "cell_type": "markdown",
   "metadata": {},
   "source": [
    "### 2nd interpretation\n",
    "What do you notice now with our training/validation curves? Do you have any hints about why we observe such results ?\n",
    "\n",
    "You need to find a way to solve this problem. Please go back to the model definition and try to add new type of layer."
   ]
  }
 ],
 "metadata": {
  "kernelspec": {
   "display_name": "env-nlp-TF",
   "language": "python",
   "name": "env-nlp-tf"
  },
  "language_info": {
   "codemirror_mode": {
    "name": "ipython",
    "version": 3
   },
   "file_extension": ".py",
   "mimetype": "text/x-python",
   "name": "python",
   "nbconvert_exporter": "python",
   "pygments_lexer": "ipython3",
   "version": "3.7.6"
  },
  "toc": {
   "base_numbering": 1,
   "nav_menu": {},
   "number_sections": true,
   "sideBar": true,
   "skip_h1_title": false,
   "title_cell": "Table of Contents",
   "title_sidebar": "Contents",
   "toc_cell": true,
   "toc_position": {},
   "toc_section_display": true,
   "toc_window_display": true
  }
 },
 "nbformat": 4,
 "nbformat_minor": 4
}
